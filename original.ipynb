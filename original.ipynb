{
 "cells": [
  {
   "cell_type": "code",
   "execution_count": 8,
   "id": "f9760906",
   "metadata": {},
   "outputs": [],
   "source": [
    "import cv2 as cv\n",
    "import numpy as np\n",
    "import os\n",
    "\n",
    "# Classes\n",
    "from Image import Image"
   ]
  },
  {
   "cell_type": "code",
   "execution_count": 9,
   "id": "145f029a",
   "metadata": {},
   "outputs": [],
   "source": [
    "pressed = False\n",
    "def mouse(event, x, y, flags, param):\n",
    "    # param = dict de parametros\n",
    "    lista = param[\"lista\"]\n",
    "    img = param[\"img\"]\n",
    "\n",
    "    global pressed\n",
    "\n",
    "    if event == cv.EVENT_LBUTTONDOWN:\n",
    "        pressed = True\n",
    "        lista[0], lista[1] = x, y\n",
    "        \n",
    "    elif event == cv.EVENT_LBUTTONUP:\n",
    "        pressed = False\n",
    "        lista[2], lista[3] = x, y\n",
    "\n",
    "    #if event == cv.EVENT_MOUSEMOVE:\n",
    "    #    if pressed:\n",
    "    #        img.desenha_marcador_enquanto_move_mouse([x, y])\n",
    "        "
   ]
  },
  {
   "cell_type": "code",
   "execution_count": 10,
   "id": "e3c16c7c",
   "metadata": {},
   "outputs": [],
   "source": [
    "# Checa se a lista tem elementos negativos\n",
    "def checaSeTemNegativos(lista):\n",
    "    for e in lista:\n",
    "        if e < 0:\n",
    "            return True\n",
    "    \n",
    "    return False"
   ]
  },
  {
   "cell_type": "code",
   "execution_count": 11,
   "id": "09c6b489",
   "metadata": {},
   "outputs": [],
   "source": [
    "# Inicializando os labels em txt\n",
    "def getLabels():\n",
    "    caminho = os.path.join(os.getcwd(), \"labels.txt\")\n",
    "\n",
    "    if not os.path.isfile(caminho):\n",
    "        raise Exception(\"Você precisa adicionar o txt labels.txt no arquivo para que ele funcione\")\n",
    "\n",
    "    linhas = []\n",
    "    with open(caminho, \"r\") as file:\n",
    "        for linha in file:\n",
    "            linhas.append(linha.strip())\n",
    "    \n",
    "    return linhas"
   ]
  },
  {
   "cell_type": "code",
   "execution_count": 12,
   "id": "e1409d3a",
   "metadata": {},
   "outputs": [],
   "source": [
    "#inicializando as variaveis\n",
    "\n",
    "# Coordenadas dos pontos da imagem\n",
    "coordenadas = [-1, -1, -1, -1] # X, Y do primeiro ponto # X, Y do segundo ponto\n",
    "labels = getLabels()\n",
    "\n",
    "# inicializando imagem\n",
    "link = \"/home/saviocartaxo/Downloads/Pastas/batch_9/470514759_06626253019251_01072025_RG_BENEFICIARIO_RG_FRENTE.jpg\"\n",
    "img = Image(link)\n",
    "imagem = img.get_img()\n",
    "\n",
    "cv.namedWindow(\"Janela\")\n",
    "cv.setMouseCallback(\"Janela\", mouse, {\"lista\" : coordenadas, \"img\" : img}) # Parametro é coordenadas"
   ]
  },
  {
   "cell_type": "code",
   "execution_count": 13,
   "id": "c1a36cde",
   "metadata": {},
   "outputs": [],
   "source": [
    "while True:\n",
    "    color = tuple(np.random.randint(0, 256, size=3).tolist())\n",
    "    \n",
    "    imagem = img.to_designe()\n",
    "    cv.imshow(\"Janela\", imagem)\n",
    "    key = cv.waitKey(1) & 0xFF\n",
    "    \n",
    "    if not checaSeTemNegativos(coordenadas):\n",
    "        # os 4 pontos estão alinhados. por isso:\n",
    "        p1 = [coordenadas[0], coordenadas[1]]\n",
    "        p2 = [coordenadas[2], coordenadas[3]]\n",
    "\n",
    "        img.marc_add(p1, p2, color)\n",
    "        coordenadas[:] = [-1, -1, -1, -1] # reinicia coordenadas\n",
    "    \n",
    "    if key == ord(\"q\"):\n",
    "        break\n",
    "\n",
    "    if key == ord(\"r\"):\n",
    "        img.marc_remove()\n",
    "\n",
    "cv.destroyAllWindows()"
   ]
  }
 ],
 "metadata": {
  "kernelspec": {
   "display_name": "Python 3",
   "language": "python",
   "name": "python3"
  },
  "language_info": {
   "codemirror_mode": {
    "name": "ipython",
    "version": 3
   },
   "file_extension": ".py",
   "mimetype": "text/x-python",
   "name": "python",
   "nbconvert_exporter": "python",
   "pygments_lexer": "ipython3",
   "version": "3.10.12"
  }
 },
 "nbformat": 4,
 "nbformat_minor": 5
}
