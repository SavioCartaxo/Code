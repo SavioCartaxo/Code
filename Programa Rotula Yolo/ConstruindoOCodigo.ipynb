{
 "cells": [
  {
   "cell_type": "code",
   "execution_count": 1,
   "id": "f9760906",
   "metadata": {},
   "outputs": [],
   "source": [
    "import cv2 as cv\n",
    "import numpy as np\n",
    "import os\n",
    "import importlib\n",
    "\n",
    "import Image\n",
    "import importlib\n",
    "\n",
    "importlib.reload(Image)  # recarrega o módulo\n",
    "\n",
    "from Image import Image  # reimporta a classe atualizada"
   ]
  },
  {
   "cell_type": "code",
   "execution_count": 2,
   "id": "145f029a",
   "metadata": {},
   "outputs": [],
   "source": [
    "def mouse(event, x, y, flags, param):\n",
    "    # param = dict de parametros\n",
    "    lista = param[\"lista\"]\n",
    "    img = param[\"img\"] # Já coferi, é um obj do tipo imagem\n",
    "    color = param[\"color\"]\n",
    "\n",
    "    if event == cv.EVENT_LBUTTONDOWN:\n",
    "        \n",
    "        lista[0], lista[1] = x, y\n",
    "        img.marc_add([lista[0], lista[1]], [lista[0], lista[1]], color)\n",
    "\n",
    "        print(img.checa_se_clicou_na_borda_do_retangulo([x, y], 2))\n",
    "            \n",
    "\n",
    "        \n",
    "    elif event == cv.EVENT_LBUTTONUP:\n",
    "        lista[0], lista[1] = -1, -1\n",
    "\n",
    "    if event == cv.EVENT_MOUSEMOVE:\n",
    "        if lista[0] != -1 and lista[1] != -1:\n",
    "            lista[2], lista[3] = x, y\n",
    "            img.desenha_marcador_enquanto_move_mouse([lista[2], lista[3]])\n"
   ]
  },
  {
   "cell_type": "code",
   "execution_count": 3,
   "id": "e3c16c7c",
   "metadata": {},
   "outputs": [],
   "source": [
    "# Checa se a lista tem elementos negativos\n",
    "def checaSeTemNegativos(lista):\n",
    "    for e in lista:\n",
    "        if e < 0:\n",
    "            return True\n",
    "    \n",
    "    return False"
   ]
  },
  {
   "cell_type": "code",
   "execution_count": 4,
   "id": "09c6b489",
   "metadata": {},
   "outputs": [],
   "source": [
    "# Inicializando os labels em txt\n",
    "def getLabels():\n",
    "    caminho = os.path.join(os.getcwd(), \"labels.txt\")\n",
    "\n",
    "    if not os.path.isfile(caminho):\n",
    "        raise Exception(\"Você precisa adicionar o txt labels.txt no arquivo para que ele funcione\")\n",
    "\n",
    "    linhas = []\n",
    "    with open(caminho, \"r\") as file:\n",
    "        for linha in file:\n",
    "            linhas.append(linha.strip())\n",
    "    \n",
    "    return linhas"
   ]
  },
  {
   "cell_type": "code",
   "execution_count": 5,
   "id": "e1409d3a",
   "metadata": {},
   "outputs": [],
   "source": [
    "#inicializando as variaveis\n",
    "\n",
    "# Coordenadas dos pontos da imagem\n",
    "coordenadas = [-1, -1, -1, -1, -1, -1] # X, Y do primeiro ponto # X, Y do segundo ponto\n",
    "labels = getLabels()\n",
    "\n",
    "# inicializando imagem\n",
    "link = \"/home/saviocartaxo/Downloads/Pastas/batch_9/470514759_06626253019251_01072025_RG_BENEFICIARIO_RG_FRENTE.jpg\"\n",
    "img = Image(link)\n",
    "imagem = img.get_img()\n",
    "\n",
    "# Uma cor aleatoria\n",
    "color = tuple(np.random.randint(0, 256, size=3).tolist())\n",
    "\n",
    "cv.namedWindow(\"Janela\")\n",
    "cv.setMouseCallback(\"Janela\", mouse, {\"lista\" : coordenadas, \"img\" : img, \"color\" : color})"
   ]
  },
  {
   "cell_type": "code",
   "execution_count": 6,
   "id": "cc238ab7",
   "metadata": {},
   "outputs": [
    {
     "name": "stdout",
     "output_type": "stream",
     "text": [
      "True\n",
      "True\n",
      "True\n",
      "True\n",
      "True\n",
      "True\n",
      "True\n"
     ]
    }
   ],
   "source": [
    "while True:\n",
    "    imagem = img.to_designe()\n",
    "    cv.imshow(\"Janela\", imagem)\n",
    "    key = cv.waitKey(1) & 0xFF\n",
    "\n",
    "    if key == ord(\"q\"):\n",
    "        break\n",
    "\n",
    "    if key == ord(\"r\"):\n",
    "        img.marc_remove()\n",
    "\n",
    "cv.destroyAllWindows()"
   ]
  }
 ],
 "metadata": {
  "kernelspec": {
   "display_name": "Python 3",
   "language": "python",
   "name": "python3"
  },
  "language_info": {
   "codemirror_mode": {
    "name": "ipython",
    "version": 3
   },
   "file_extension": ".py",
   "mimetype": "text/x-python",
   "name": "python",
   "nbconvert_exporter": "python",
   "pygments_lexer": "ipython3",
   "version": "3.10.12"
  }
 },
 "nbformat": 4,
 "nbformat_minor": 5
}
