{
 "cells": [
  {
   "cell_type": "code",
   "execution_count": 2,
   "id": "f9760906",
   "metadata": {},
   "outputs": [],
   "source": [
    "import cv2 as cv"
   ]
  },
  {
   "cell_type": "code",
   "execution_count": null,
   "id": "145f029a",
   "metadata": {},
   "outputs": [],
   "source": [
    "# Movimento do mouse\n",
    "def mouse(event, x, y, flags, param):\n",
    "    if event == cv.EVENT_LBUTTONDOWN:\n",
    "        return [x ,y]\n",
    "    if event == cv.EVENT_LBUTTONUP:\n",
    "        return [x, y]"
   ]
  },
  {
   "cell_type": "code",
   "execution_count": 6,
   "id": "c1a36cde",
   "metadata": {},
   "outputs": [],
   "source": [
    "imagem = \"/home/saviocartaxo/Downloads/batch_5/449804939_04899316011152_01052025_998469762260095_CUPOM_VINCULADO_.jpg\"\n",
    "\n",
    "imagem = cv.imread(imagem)\n",
    "\n",
    "cv.namedWindow(\"Janela\")\n",
    "cv.setMouseCallback(\"Janela\", mouse)\n",
    "\n",
    "while True:\n",
    "    cv.imshow(\"Janela\",imagem)\n",
    "    key = cv.waitKey() & 0xFF\n",
    "    if key == ord(\"q\"):\n",
    "        break\n",
    "\n",
    "cv.destroyAllWindows()"
   ]
  }
 ],
 "metadata": {
  "kernelspec": {
   "display_name": "Python 3",
   "language": "python",
   "name": "python3"
  },
  "language_info": {
   "codemirror_mode": {
    "name": "ipython",
    "version": 3
   },
   "file_extension": ".py",
   "mimetype": "text/x-python",
   "name": "python",
   "nbconvert_exporter": "python",
   "pygments_lexer": "ipython3",
   "version": "3.10.12"
  }
 },
 "nbformat": 4,
 "nbformat_minor": 5
}
