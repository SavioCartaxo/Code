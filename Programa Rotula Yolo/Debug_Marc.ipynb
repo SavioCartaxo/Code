{
 "cells": [
  {
   "cell_type": "code",
   "execution_count": 32,
   "id": "8741c614",
   "metadata": {},
   "outputs": [],
   "source": [
    "import Marc\n",
    "import importlib\n",
    "\n",
    "importlib.reload(Marc)\n",
    "\n",
    "from Marc import Marc "
   ]
  },
  {
   "cell_type": "code",
   "execution_count": 33,
   "id": "352dced4",
   "metadata": {},
   "outputs": [
    {
     "name": "stdout",
     "output_type": "stream",
     "text": [
      "True\n",
      "True\n",
      "True\n",
      "True\n",
      "True\n",
      "True\n",
      "True\n",
      "True\n",
      "True\n"
     ]
    }
   ],
   "source": [
    "marc = Marc([12, 4], [20, 10], (255, 255, 255))\n",
    "\n",
    "print(marc.clicou_na_borda_do_marcador([10, 2], 2))\n",
    "print(marc.clicou_na_borda_do_marcador([14, 6], 2))\n",
    "print(marc.clicou_na_borda_do_marcador([18, 8], 2))\n",
    "print(marc.clicou_na_borda_do_marcador([22, 12], 2))\n",
    "\n",
    "print(marc.clicou_na_borda_do_marcador([10, 2], 2))\n",
    "print(marc.clicou_na_borda_do_marcador([14, 6], 2))\n",
    "print(marc.clicou_na_borda_do_marcador([18, 8], 2))\n",
    "print(marc.clicou_na_borda_do_marcador([22, 12], 2))\n",
    "\n",
    "print(marc.clicou_na_borda_do_marcador([13, 5], 2))"
   ]
  },
  {
   "cell_type": "code",
   "execution_count": 34,
   "id": "6ccb2a11",
   "metadata": {},
   "outputs": [
    {
     "name": "stdout",
     "output_type": "stream",
     "text": [
      "True\n",
      "False\n",
      "False\n"
     ]
    }
   ],
   "source": [
    "marc = Marc([12, 4], [120, 110], (255, 255, 255))\n",
    "\n",
    "print(marc.clicou_na_vertice_de_um_marcador([120, 4], 2))\n",
    "print(marc.clicou_na_vertice_de_um_marcador([50, 50], 2))\n",
    "print(marc.clicou_na_vertice_de_um_marcador([120, 107], 2))"
   ]
  },
  {
   "cell_type": "code",
   "execution_count": 37,
   "id": "2d747515",
   "metadata": {},
   "outputs": [
    {
     "name": "stdout",
     "output_type": "stream",
     "text": [
      "False\n",
      "True\n"
     ]
    }
   ],
   "source": [
    "print(marc.clicou_na_borda_do_marcador([50, 133], 2))\n",
    "print(marc.clicou_na_borda_do_marcador([10, 110], 2))"
   ]
  }
 ],
 "metadata": {
  "kernelspec": {
   "display_name": "Python 3",
   "language": "python",
   "name": "python3"
  },
  "language_info": {
   "codemirror_mode": {
    "name": "ipython",
    "version": 3
   },
   "file_extension": ".py",
   "mimetype": "text/x-python",
   "name": "python",
   "nbconvert_exporter": "python",
   "pygments_lexer": "ipython3",
   "version": "3.10.12"
  }
 },
 "nbformat": 4,
 "nbformat_minor": 5
}
