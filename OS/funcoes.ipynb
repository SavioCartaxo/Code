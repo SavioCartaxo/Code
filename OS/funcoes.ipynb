{
 "cells": [
  {
   "cell_type": "code",
   "execution_count": 2,
   "id": "61beef00",
   "metadata": {},
   "outputs": [],
   "source": [
    "import os\n",
    "import shutil"
   ]
  },
  {
   "cell_type": "code",
   "execution_count": 3,
   "id": "90cb2280",
   "metadata": {},
   "outputs": [],
   "source": [
    "def cria_pasta(lista_nomes, diretorio):\n",
    "    # lista de nomes do arquivo que precisam ser criados\n",
    "    lista_nomes.append('Pastas')\n",
    "    lista_nomes.append('Outros')\n",
    "\n",
    "    for nome in lista_nomes:\n",
    "        try:\n",
    "            caminho = os.path.join(diretorio, nome)\n",
    "            os.makedirs(caminho,exist_ok=True) ##################\n",
    "        except:\n",
    "            pass"
   ]
  },
  {
   "cell_type": "code",
   "execution_count": 4,
   "id": "921d3bfd",
   "metadata": {},
   "outputs": [],
   "source": [
    "def pegar_extensao(arquivo):\n",
    "    # Retorna o nome do arquivo sem o ponto('.')\n",
    "    index = arquivo.rfind('.')\n",
    "    return arquivo[index+1:]"
   ]
  },
  {
   "cell_type": "code",
   "execution_count": 5,
   "id": "edc31c9f",
   "metadata": {},
   "outputs": [],
   "source": [
    "def organiza(diretorio, lista_nomes_arquivos, lista_nomes_extensoes):\n",
    "    \n",
    "    cria_pasta(lista_nomes_arquivos, diretorio)\n",
    "\n",
    "    arquivos = os.listdir(diretorio)\n",
    "\n",
    "    for arquivo in arquivos:\n",
    "        origem = os.path.join(diretorio, arquivo)\n",
    "\n",
    "        if arquivo in lista_nomes_arquivos + ['Pastas', 'Outros']:\n",
    "            continue\n",
    "\n",
    "        ##################################\n",
    "        if os.path.isdir(origem):\n",
    "            destino = os.path.join(diretorio, 'Pastas')    \n",
    "            shutil.move(origem, destino)\n",
    "            continue\n",
    "\n",
    "        extensao = pegar_extensao(arquivo).lower()\n",
    "        e_outro = True\n",
    "\n",
    "        for index, nome_extensao in enumerate(lista_nomes_extensoes):\n",
    "            if (extensao == nome_extensao):\n",
    "                destino = os.path.join(diretorio, lista_nomes_arquivos[index])\n",
    "                e_outro = False\n",
    "                break\n",
    "\n",
    "        if e_outro:\n",
    "            destino = os.path.join(diretorio, 'Outros')\n",
    "        \n",
    "        shutil.move(origem, destino)"
   ]
  },
  {
   "cell_type": "code",
   "execution_count": 6,
   "id": "4a56c243",
   "metadata": {},
   "outputs": [
    {
     "ename": "Error",
     "evalue": "Destination path '/home/saviocartaxo/Downloads/textos/labels.txt' already exists",
     "output_type": "error",
     "traceback": [
      "\u001b[0;31m---------------------------------------------------------------------------\u001b[0m",
      "\u001b[0;31mError\u001b[0m                                     Traceback (most recent call last)",
      "Cell \u001b[0;32mIn[6], line 6\u001b[0m\n\u001b[1;32m      3\u001b[0m lista_nomes \u001b[38;5;241m=\u001b[39m [\u001b[38;5;124m'\u001b[39m\u001b[38;5;124mimagens\u001b[39m\u001b[38;5;124m'\u001b[39m, \u001b[38;5;124m'\u001b[39m\u001b[38;5;124mtextos\u001b[39m\u001b[38;5;124m'\u001b[39m]\n\u001b[1;32m      4\u001b[0m lista_extensoes \u001b[38;5;241m=\u001b[39m [\u001b[38;5;124m'\u001b[39m\u001b[38;5;124mpng\u001b[39m\u001b[38;5;124m'\u001b[39m, \u001b[38;5;124m'\u001b[39m\u001b[38;5;124mtxt\u001b[39m\u001b[38;5;124m'\u001b[39m]\n\u001b[0;32m----> 6\u001b[0m \u001b[43morganiza\u001b[49m\u001b[43m(\u001b[49m\u001b[38;5;124;43m'\u001b[39;49m\u001b[38;5;124;43m/home/saviocartaxo/Downloads\u001b[39;49m\u001b[38;5;124;43m'\u001b[39;49m\u001b[43m,\u001b[49m\u001b[43m \u001b[49m\u001b[43mlista_nomes\u001b[49m\u001b[43m,\u001b[49m\u001b[43m \u001b[49m\u001b[43mlista_extensoes\u001b[49m\u001b[43m)\u001b[49m\n",
      "Cell \u001b[0;32mIn[5], line 31\u001b[0m, in \u001b[0;36morganiza\u001b[0;34m(diretorio, lista_nomes_arquivos, lista_nomes_extensoes)\u001b[0m\n\u001b[1;32m     28\u001b[0m \u001b[38;5;28;01mif\u001b[39;00m e_outro:\n\u001b[1;32m     29\u001b[0m     destino \u001b[38;5;241m=\u001b[39m os\u001b[38;5;241m.\u001b[39mpath\u001b[38;5;241m.\u001b[39mjoin(diretorio, \u001b[38;5;124m'\u001b[39m\u001b[38;5;124mOutros\u001b[39m\u001b[38;5;124m'\u001b[39m)\n\u001b[0;32m---> 31\u001b[0m \u001b[43mshutil\u001b[49m\u001b[38;5;241;43m.\u001b[39;49m\u001b[43mmove\u001b[49m\u001b[43m(\u001b[49m\u001b[43morigem\u001b[49m\u001b[43m,\u001b[49m\u001b[43m \u001b[49m\u001b[43mdestino\u001b[49m\u001b[43m)\u001b[49m\n",
      "File \u001b[0;32m/usr/lib/python3.10/shutil.py:814\u001b[0m, in \u001b[0;36mmove\u001b[0;34m(src, dst, copy_function)\u001b[0m\n\u001b[1;32m    811\u001b[0m     real_dst \u001b[38;5;241m=\u001b[39m os\u001b[38;5;241m.\u001b[39mpath\u001b[38;5;241m.\u001b[39mjoin(dst, _basename(src))\n\u001b[1;32m    813\u001b[0m     \u001b[38;5;28;01mif\u001b[39;00m os\u001b[38;5;241m.\u001b[39mpath\u001b[38;5;241m.\u001b[39mexists(real_dst):\n\u001b[0;32m--> 814\u001b[0m         \u001b[38;5;28;01mraise\u001b[39;00m Error(\u001b[38;5;124m\"\u001b[39m\u001b[38;5;124mDestination path \u001b[39m\u001b[38;5;124m'\u001b[39m\u001b[38;5;132;01m%s\u001b[39;00m\u001b[38;5;124m'\u001b[39m\u001b[38;5;124m already exists\u001b[39m\u001b[38;5;124m\"\u001b[39m \u001b[38;5;241m%\u001b[39m real_dst)\n\u001b[1;32m    815\u001b[0m \u001b[38;5;28;01mtry\u001b[39;00m:\n\u001b[1;32m    816\u001b[0m     os\u001b[38;5;241m.\u001b[39mrename(src, real_dst)\n",
      "\u001b[0;31mError\u001b[0m: Destination path '/home/saviocartaxo/Downloads/textos/labels.txt' already exists"
     ]
    }
   ],
   "source": [
    "# MAIN\n",
    "\n",
    "lista_nomes = ['imagens', 'textos']\n",
    "lista_extensoes = ['png', 'txt']\n",
    "\n",
    "organiza('/home/saviocartaxo/Downloads', lista_nomes, lista_extensoes)"
   ]
  }
 ],
 "metadata": {
  "kernelspec": {
   "display_name": "Python 3",
   "language": "python",
   "name": "python3"
  },
  "language_info": {
   "codemirror_mode": {
    "name": "ipython",
    "version": 3
   },
   "file_extension": ".py",
   "mimetype": "text/x-python",
   "name": "python",
   "nbconvert_exporter": "python",
   "pygments_lexer": "ipython3",
   "version": "3.10.12"
  }
 },
 "nbformat": 4,
 "nbformat_minor": 5
}
