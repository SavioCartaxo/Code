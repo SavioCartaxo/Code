{
 "cells": [
  {
   "cell_type": "code",
   "execution_count": 2,
   "id": "a4111571",
   "metadata": {},
   "outputs": [],
   "source": [
    "import cv2 as cv"
   ]
  },
  {
   "cell_type": "code",
   "execution_count": 3,
   "id": "ac82d15c",
   "metadata": {},
   "outputs": [],
   "source": [
    "#cv.imread()  # Lê imagem\n",
    "#cv.imshow()  # Mostra imagem\n",
    "#cv.imwrite() # Reescreve imagem"
   ]
  },
  {
   "cell_type": "code",
   "execution_count": 4,
   "id": "bbc765f7",
   "metadata": {},
   "outputs": [],
   "source": [
    "imagem = cv.imread('teste.jpg')\n",
    "\n",
    "if imagem is None:\n",
    "    print(\"Imagem não encontrada\")\n",
    "else :\n",
    "    cv.imshow('Titulo', imagem)\n",
    "    cv.waitKey(0)\n",
    "    cv.destroyAllWindows()"
   ]
  }
 ],
 "metadata": {
  "kernelspec": {
   "display_name": "Python 3",
   "language": "python",
   "name": "python3"
  },
  "language_info": {
   "codemirror_mode": {
    "name": "ipython",
    "version": 3
   },
   "file_extension": ".py",
   "mimetype": "text/x-python",
   "name": "python",
   "nbconvert_exporter": "python",
   "pygments_lexer": "ipython3",
   "version": "3.10.12"
  }
 },
 "nbformat": 4,
 "nbformat_minor": 5
}
