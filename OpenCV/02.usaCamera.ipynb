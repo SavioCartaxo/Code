{
 "cells": [
  {
   "cell_type": "code",
   "execution_count": 1,
   "id": "728fdf9a",
   "metadata": {},
   "outputs": [],
   "source": [
    "import cv2 as cv"
   ]
  },
  {
   "cell_type": "code",
   "execution_count": 13,
   "id": "a05c210f",
   "metadata": {},
   "outputs": [],
   "source": [
    "# a Camera deve ser a entrada\n",
    "camera = cv.VideoCapture(0)\n",
    "classificador_de_restos = cv.CascadeClassifier(cv.data.haarcascades + \"haarcascade_frontalface_default.xml\")\n",
    "\n",
    "while True:\n",
    "    leitura, frame = camera.read() # leitura = bool q retorna se leu ou não o frame\n",
    "                                   # frame = imagem\n",
    "    if not leitura:\n",
    "        break\n",
    "\n",
    "    frame = cv.flip(frame, 1)\n",
    "    cinza = cv.cvtColor(frame, cv.COLOR_BGR2GRAY)\n",
    "    rosto = classificador_de_restos.detectMultiScale(cinza, scaleFactor=1.1, minNeighbors=5)\n",
    "\n",
    "    for (x, y, w, h) in rosto:\n",
    "        cv.rectangle(frame, (x, y), (x + w, y + h), (255, 0, 0), 2)\n",
    "\n",
    "    cv.imshow(\"Camera\", frame)\n",
    "\n",
    "    if cv.waitKey(1) & 0xFF == ord('q'):\n",
    "        break\n",
    "\n",
    "camera.release()       # Para de usar a camera\n",
    "cv.destroyAllWindows() # Fecha a aba "
   ]
  }
 ],
 "metadata": {
  "kernelspec": {
   "display_name": "Python 3",
   "language": "python",
   "name": "python3"
  },
  "language_info": {
   "codemirror_mode": {
    "name": "ipython",
    "version": 3
   },
   "file_extension": ".py",
   "mimetype": "text/x-python",
   "name": "python",
   "nbconvert_exporter": "python",
   "pygments_lexer": "ipython3",
   "version": "3.10.12"
  }
 },
 "nbformat": 4,
 "nbformat_minor": 5
}
